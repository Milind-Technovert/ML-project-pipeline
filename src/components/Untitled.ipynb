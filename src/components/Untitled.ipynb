{
 "cells": [
  {
   "cell_type": "code",
   "execution_count": 1,
   "id": "167fb991-5d30-41a3-a428-444836a4c172",
   "metadata": {},
   "outputs": [],
   "source": [
    "import os\n",
    "os.chdir(r\"C:\\Users\\milind.mali\\DSP\\ML-project-pipeline\\src\")"
   ]
  },
  {
   "cell_type": "code",
   "execution_count": 2,
   "id": "e6803e18-0a9d-48b5-9ceb-717f41853f7a",
   "metadata": {},
   "outputs": [],
   "source": [
    "import exception"
   ]
  },
  {
   "cell_type": "code",
   "execution_count": null,
   "id": "4f5f5e17-0927-4d92-99df-a2371bb0505d",
   "metadata": {},
   "outputs": [],
   "source": []
  },
  {
   "cell_type": "code",
   "execution_count": null,
   "id": "96ba280b-5e59-4687-aeff-34481b2c2e32",
   "metadata": {},
   "outputs": [],
   "source": []
  }
 ],
 "metadata": {
  "kernelspec": {
   "display_name": "Python 3 (ipykernel)",
   "language": "python",
   "name": "python3"
  },
  "language_info": {
   "codemirror_mode": {
    "name": "ipython",
    "version": 3
   },
   "file_extension": ".py",
   "mimetype": "text/x-python",
   "name": "python",
   "nbconvert_exporter": "python",
   "pygments_lexer": "ipython3",
   "version": "3.11.7"
  }
 },
 "nbformat": 4,
 "nbformat_minor": 5
}
